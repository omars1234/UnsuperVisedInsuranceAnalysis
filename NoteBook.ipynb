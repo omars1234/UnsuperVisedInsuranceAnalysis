{
 "cells": [
  {
   "cell_type": "markdown",
   "metadata": {},
   "source": [
    "# *UnsuperVised InsuranceA nalysis*"
   ]
  },
  {
   "cell_type": "code",
   "execution_count": 1,
   "metadata": {},
   "outputs": [],
   "source": [
    "import numpy as np\n",
    "import pandas as pd\n",
    "from matplotlib import pyplot as plt\n",
    "%matplotlib inline\n",
    "import matplotlib\n",
    "matplotlib.rcParams[\"figure.figsize\"]=(20,10)\n",
    "import seaborn as sns;sns.set()\n",
    "import warnings\n",
    "warnings.filterwarnings('ignore')\n",
    "import plotly.express as px"
   ]
  },
  {
   "cell_type": "markdown",
   "metadata": {},
   "source": [
    "## *Analysis objective :<br> Apply Unsupervised Learning Techniques On Insurance Data*"
   ]
  },
  {
   "cell_type": "markdown",
   "metadata": {},
   "source": [
    "---"
   ]
  },
  {
   "cell_type": "markdown",
   "metadata": {},
   "source": [
    "## *A. Importing data**"
   ]
  },
  {
   "cell_type": "code",
   "execution_count": 3,
   "metadata": {},
   "outputs": [
    {
     "data": {
      "text/html": [
       "<div>\n",
       "<style scoped>\n",
       "    .dataframe tbody tr th:only-of-type {\n",
       "        vertical-align: middle;\n",
       "    }\n",
       "\n",
       "    .dataframe tbody tr th {\n",
       "        vertical-align: top;\n",
       "    }\n",
       "\n",
       "    .dataframe thead th {\n",
       "        text-align: right;\n",
       "    }\n",
       "</style>\n",
       "<table border=\"1\" class=\"dataframe\">\n",
       "  <thead>\n",
       "    <tr style=\"text-align: right;\">\n",
       "      <th></th>\n",
       "      <th>veh_value</th>\n",
       "      <th>exposure</th>\n",
       "      <th>clm</th>\n",
       "      <th>numclaims</th>\n",
       "      <th>claimcst0</th>\n",
       "      <th>veh_body</th>\n",
       "      <th>veh_age</th>\n",
       "      <th>gender</th>\n",
       "      <th>area</th>\n",
       "      <th>agecat</th>\n",
       "      <th>X_OBSTAT_</th>\n",
       "    </tr>\n",
       "  </thead>\n",
       "  <tbody>\n",
       "    <tr>\n",
       "      <th>0</th>\n",
       "      <td>1.06</td>\n",
       "      <td>0.303901</td>\n",
       "      <td>0</td>\n",
       "      <td>0</td>\n",
       "      <td>0.0</td>\n",
       "      <td>HBACK</td>\n",
       "      <td>3</td>\n",
       "      <td>F</td>\n",
       "      <td>C</td>\n",
       "      <td>2</td>\n",
       "      <td>01101    0    0    0</td>\n",
       "    </tr>\n",
       "    <tr>\n",
       "      <th>1</th>\n",
       "      <td>1.03</td>\n",
       "      <td>0.648871</td>\n",
       "      <td>0</td>\n",
       "      <td>0</td>\n",
       "      <td>0.0</td>\n",
       "      <td>HBACK</td>\n",
       "      <td>2</td>\n",
       "      <td>F</td>\n",
       "      <td>A</td>\n",
       "      <td>4</td>\n",
       "      <td>01101    0    0    0</td>\n",
       "    </tr>\n",
       "    <tr>\n",
       "      <th>2</th>\n",
       "      <td>3.26</td>\n",
       "      <td>0.569473</td>\n",
       "      <td>0</td>\n",
       "      <td>0</td>\n",
       "      <td>0.0</td>\n",
       "      <td>UTE</td>\n",
       "      <td>2</td>\n",
       "      <td>F</td>\n",
       "      <td>E</td>\n",
       "      <td>2</td>\n",
       "      <td>01101    0    0    0</td>\n",
       "    </tr>\n",
       "    <tr>\n",
       "      <th>3</th>\n",
       "      <td>4.14</td>\n",
       "      <td>0.317591</td>\n",
       "      <td>0</td>\n",
       "      <td>0</td>\n",
       "      <td>0.0</td>\n",
       "      <td>STNWG</td>\n",
       "      <td>2</td>\n",
       "      <td>F</td>\n",
       "      <td>D</td>\n",
       "      <td>2</td>\n",
       "      <td>01101    0    0    0</td>\n",
       "    </tr>\n",
       "    <tr>\n",
       "      <th>4</th>\n",
       "      <td>0.72</td>\n",
       "      <td>0.648871</td>\n",
       "      <td>0</td>\n",
       "      <td>0</td>\n",
       "      <td>0.0</td>\n",
       "      <td>HBACK</td>\n",
       "      <td>4</td>\n",
       "      <td>F</td>\n",
       "      <td>C</td>\n",
       "      <td>2</td>\n",
       "      <td>01101    0    0    0</td>\n",
       "    </tr>\n",
       "  </tbody>\n",
       "</table>\n",
       "</div>"
      ],
      "text/plain": [
       "   veh_value  exposure  clm  numclaims  claimcst0 veh_body  veh_age gender  \\\n",
       "0       1.06  0.303901    0          0        0.0    HBACK        3      F   \n",
       "1       1.03  0.648871    0          0        0.0    HBACK        2      F   \n",
       "2       3.26  0.569473    0          0        0.0      UTE        2      F   \n",
       "3       4.14  0.317591    0          0        0.0    STNWG        2      F   \n",
       "4       0.72  0.648871    0          0        0.0    HBACK        4      F   \n",
       "\n",
       "  area  agecat             X_OBSTAT_  \n",
       "0    C       2  01101    0    0    0  \n",
       "1    A       4  01101    0    0    0  \n",
       "2    E       2  01101    0    0    0  \n",
       "3    D       2  01101    0    0    0  \n",
       "4    C       2  01101    0    0    0  "
      ]
     },
     "execution_count": 3,
     "metadata": {},
     "output_type": "execute_result"
    }
   ],
   "source": [
    "df=pd.read_csv(r\"C:/Users/Omar/Desktop/Omar_Files/Python_Analysis/Auto_Insurance/Data_Sets/data_car.csv\")\n",
    "df.head()"
   ]
  },
  {
   "cell_type": "markdown",
   "metadata": {},
   "source": [
    "---"
   ]
  },
  {
   "cell_type": "markdown",
   "metadata": {},
   "source": [
    "## *B. Data shape :*"
   ]
  },
  {
   "cell_type": "code",
   "execution_count": 4,
   "metadata": {},
   "outputs": [
    {
     "data": {
      "text/plain": [
       "(67856, 11)"
      ]
     },
     "execution_count": 4,
     "metadata": {},
     "output_type": "execute_result"
    }
   ],
   "source": [
    "df.shape"
   ]
  },
  {
   "cell_type": "markdown",
   "metadata": {},
   "source": [
    "---"
   ]
  },
  {
   "cell_type": "markdown",
   "metadata": {},
   "source": [
    "## *C. Data info :*"
   ]
  },
  {
   "cell_type": "code",
   "execution_count": 5,
   "metadata": {},
   "outputs": [
    {
     "name": "stdout",
     "output_type": "stream",
     "text": [
      "<class 'pandas.core.frame.DataFrame'>\n",
      "RangeIndex: 67856 entries, 0 to 67855\n",
      "Data columns (total 11 columns):\n",
      " #   Column     Non-Null Count  Dtype  \n",
      "---  ------     --------------  -----  \n",
      " 0   veh_value  67856 non-null  float64\n",
      " 1   exposure   67856 non-null  float64\n",
      " 2   clm        67856 non-null  int64  \n",
      " 3   numclaims  67856 non-null  int64  \n",
      " 4   claimcst0  67856 non-null  float64\n",
      " 5   veh_body   67856 non-null  object \n",
      " 6   veh_age    67856 non-null  int64  \n",
      " 7   gender     67856 non-null  object \n",
      " 8   area       67856 non-null  object \n",
      " 9   agecat     67856 non-null  int64  \n",
      " 10  X_OBSTAT_  67856 non-null  object \n",
      "dtypes: float64(3), int64(4), object(4)\n",
      "memory usage: 5.7+ MB\n"
     ]
    }
   ],
   "source": [
    "df.info()"
   ]
  },
  {
   "cell_type": "markdown",
   "metadata": {},
   "source": [
    "---"
   ]
  },
  {
   "cell_type": "markdown",
   "metadata": {},
   "source": [
    "## *D. Data Cleaning :*"
   ]
  },
  {
   "cell_type": "markdown",
   "metadata": {},
   "source": [
    "### *D.1 Removing unnecessary features -(X_OBSTAT ,clm)- :*"
   ]
  },
  {
   "cell_type": "code",
   "execution_count": 6,
   "metadata": {},
   "outputs": [],
   "source": [
    "df=df.drop([\"X_OBSTAT_\",\"clm\"],axis=1)"
   ]
  },
  {
   "cell_type": "markdown",
   "metadata": {},
   "source": [
    "\n",
    "### *D.1 na-values :*"
   ]
  },
  {
   "cell_type": "code",
   "execution_count": 7,
   "metadata": {},
   "outputs": [
    {
     "data": {
      "text/plain": [
       "veh_value    0\n",
       "exposure     0\n",
       "numclaims    0\n",
       "claimcst0    0\n",
       "veh_body     0\n",
       "veh_age      0\n",
       "gender       0\n",
       "area         0\n",
       "agecat       0\n",
       "dtype: int64"
      ]
     },
     "execution_count": 7,
     "metadata": {},
     "output_type": "execute_result"
    }
   ],
   "source": [
    "df.isna().sum().sum()\n",
    "df.isna().sum()"
   ]
  },
  {
   "cell_type": "markdown",
   "metadata": {},
   "source": [
    "### *D.2 convert data types :*"
   ]
  },
  {
   "cell_type": "code",
   "execution_count": 8,
   "metadata": {},
   "outputs": [],
   "source": [
    "df[\"agecat\"]=df[\"agecat\"].astype(\"object\")\n",
    "df[\"veh_age\"]=df[\"veh_age\"].astype(\"object\")"
   ]
  },
  {
   "cell_type": "markdown",
   "metadata": {},
   "source": [
    "### *D.3 convert veh_value into correct format :*"
   ]
  },
  {
   "cell_type": "code",
   "execution_count": 9,
   "metadata": {},
   "outputs": [],
   "source": [
    "df[\"veh_value\"]=df[\"veh_value\"]*10000"
   ]
  },
  {
   "cell_type": "markdown",
   "metadata": {},
   "source": [
    "### *D.4 Filter veh_value and claimcst0 with more than 0 :*"
   ]
  },
  {
   "cell_type": "code",
   "execution_count": 10,
   "metadata": {},
   "outputs": [],
   "source": [
    "df=df[df[\"veh_value\"]>0]\n",
    "df=df[df[\"claimcst0\"]>0]"
   ]
  },
  {
   "cell_type": "markdown",
   "metadata": {},
   "source": [
    "---"
   ]
  },
  {
   "cell_type": "markdown",
   "metadata": {},
   "source": [
    "## *E. EDA --Exploration data analysis*"
   ]
  },
  {
   "cell_type": "markdown",
   "metadata": {},
   "source": [
    "* *Define categorical_columns and numerical_columns :*"
   ]
  },
  {
   "cell_type": "code",
   "execution_count": 11,
   "metadata": {},
   "outputs": [],
   "source": [
    "categorical_columns =df.select_dtypes(include=['object']).columns.tolist()\n",
    "numerical_columns =df.select_dtypes(include=['float64','int64']).columns.tolist()"
   ]
  },
  {
   "cell_type": "markdown",
   "metadata": {},
   "source": [
    "### *E.1 Descriptive Analysis :*"
   ]
  },
  {
   "cell_type": "code",
   "execution_count": 12,
   "metadata": {},
   "outputs": [
    {
     "data": {
      "text/html": [
       "<div>\n",
       "<style scoped>\n",
       "    .dataframe tbody tr th:only-of-type {\n",
       "        vertical-align: middle;\n",
       "    }\n",
       "\n",
       "    .dataframe tbody tr th {\n",
       "        vertical-align: top;\n",
       "    }\n",
       "\n",
       "    .dataframe thead th {\n",
       "        text-align: right;\n",
       "    }\n",
       "</style>\n",
       "<table border=\"1\" class=\"dataframe\">\n",
       "  <thead>\n",
       "    <tr style=\"text-align: right;\">\n",
       "      <th></th>\n",
       "      <th>veh_value</th>\n",
       "      <th>exposure</th>\n",
       "      <th>numclaims</th>\n",
       "      <th>claimcst0</th>\n",
       "    </tr>\n",
       "  </thead>\n",
       "  <tbody>\n",
       "    <tr>\n",
       "      <th>count</th>\n",
       "      <td>4618.000000</td>\n",
       "      <td>4618.000000</td>\n",
       "      <td>4618.000000</td>\n",
       "      <td>4618.000000</td>\n",
       "    </tr>\n",
       "    <tr>\n",
       "      <th>mean</th>\n",
       "      <td>18616.111087</td>\n",
       "      <td>0.610834</td>\n",
       "      <td>1.067345</td>\n",
       "      <td>2013.086464</td>\n",
       "    </tr>\n",
       "    <tr>\n",
       "      <th>std</th>\n",
       "      <td>11584.085584</td>\n",
       "      <td>0.261503</td>\n",
       "      <td>0.270592</td>\n",
       "      <td>3547.973696</td>\n",
       "    </tr>\n",
       "    <tr>\n",
       "      <th>min</th>\n",
       "      <td>2200.000000</td>\n",
       "      <td>0.002738</td>\n",
       "      <td>1.000000</td>\n",
       "      <td>200.000000</td>\n",
       "    </tr>\n",
       "    <tr>\n",
       "      <th>25%</th>\n",
       "      <td>11000.000000</td>\n",
       "      <td>0.410678</td>\n",
       "      <td>1.000000</td>\n",
       "      <td>353.770000</td>\n",
       "    </tr>\n",
       "    <tr>\n",
       "      <th>50%</th>\n",
       "      <td>15700.000000</td>\n",
       "      <td>0.636550</td>\n",
       "      <td>1.000000</td>\n",
       "      <td>761.349999</td>\n",
       "    </tr>\n",
       "    <tr>\n",
       "      <th>75%</th>\n",
       "      <td>23175.000000</td>\n",
       "      <td>0.832307</td>\n",
       "      <td>1.000000</td>\n",
       "      <td>2090.927497</td>\n",
       "    </tr>\n",
       "    <tr>\n",
       "      <th>max</th>\n",
       "      <td>139000.000000</td>\n",
       "      <td>0.999316</td>\n",
       "      <td>4.000000</td>\n",
       "      <td>55922.129883</td>\n",
       "    </tr>\n",
       "  </tbody>\n",
       "</table>\n",
       "</div>"
      ],
      "text/plain": [
       "           veh_value     exposure    numclaims     claimcst0\n",
       "count    4618.000000  4618.000000  4618.000000   4618.000000\n",
       "mean    18616.111087     0.610834     1.067345   2013.086464\n",
       "std     11584.085584     0.261503     0.270592   3547.973696\n",
       "min      2200.000000     0.002738     1.000000    200.000000\n",
       "25%     11000.000000     0.410678     1.000000    353.770000\n",
       "50%     15700.000000     0.636550     1.000000    761.349999\n",
       "75%     23175.000000     0.832307     1.000000   2090.927497\n",
       "max    139000.000000     0.999316     4.000000  55922.129883"
      ]
     },
     "execution_count": 12,
     "metadata": {},
     "output_type": "execute_result"
    }
   ],
   "source": [
    "pd.DataFrame(df[numerical_columns].describe())"
   ]
  },
  {
   "cell_type": "code",
   "execution_count": 13,
   "metadata": {},
   "outputs": [
    {
     "data": {
      "text/html": [
       "<div>\n",
       "<style scoped>\n",
       "    .dataframe tbody tr th:only-of-type {\n",
       "        vertical-align: middle;\n",
       "    }\n",
       "\n",
       "    .dataframe tbody tr th {\n",
       "        vertical-align: top;\n",
       "    }\n",
       "\n",
       "    .dataframe thead th {\n",
       "        text-align: right;\n",
       "    }\n",
       "</style>\n",
       "<table border=\"1\" class=\"dataframe\">\n",
       "  <thead>\n",
       "    <tr style=\"text-align: right;\">\n",
       "      <th></th>\n",
       "      <th>veh_body</th>\n",
       "      <th>veh_age</th>\n",
       "      <th>gender</th>\n",
       "      <th>area</th>\n",
       "      <th>agecat</th>\n",
       "    </tr>\n",
       "  </thead>\n",
       "  <tbody>\n",
       "    <tr>\n",
       "      <th>count</th>\n",
       "      <td>4618</td>\n",
       "      <td>4618</td>\n",
       "      <td>4618</td>\n",
       "      <td>4618</td>\n",
       "      <td>4618</td>\n",
       "    </tr>\n",
       "    <tr>\n",
       "      <th>unique</th>\n",
       "      <td>13</td>\n",
       "      <td>4</td>\n",
       "      <td>2</td>\n",
       "      <td>6</td>\n",
       "      <td>6</td>\n",
       "    </tr>\n",
       "    <tr>\n",
       "      <th>top</th>\n",
       "      <td>SEDAN</td>\n",
       "      <td>3</td>\n",
       "      <td>F</td>\n",
       "      <td>C</td>\n",
       "      <td>3</td>\n",
       "    </tr>\n",
       "    <tr>\n",
       "      <th>freq</th>\n",
       "      <td>1476</td>\n",
       "      <td>1362</td>\n",
       "      <td>2647</td>\n",
       "      <td>1412</td>\n",
       "      <td>1111</td>\n",
       "    </tr>\n",
       "  </tbody>\n",
       "</table>\n",
       "</div>"
      ],
      "text/plain": [
       "       veh_body  veh_age gender  area  agecat\n",
       "count      4618     4618   4618  4618    4618\n",
       "unique       13        4      2     6       6\n",
       "top       SEDAN        3      F     C       3\n",
       "freq       1476     1362   2647  1412    1111"
      ]
     },
     "execution_count": 13,
     "metadata": {},
     "output_type": "execute_result"
    }
   ],
   "source": [
    "pd.DataFrame(df[categorical_columns].describe())"
   ]
  },
  {
   "cell_type": "markdown",
   "metadata": {},
   "source": [
    "### *E.2 Data Visualization :*"
   ]
  },
  {
   "cell_type": "code",
   "execution_count": 15,
   "metadata": {},
   "outputs": [
    {
     "data": {
      "image/png": "[encoded data removed]",
      "text/plain": [
       "<Figure size 1700x500 with 1 Axes>"
      ]
     },
     "metadata": {},
     "output_type": "display_data"
    }
   ],
   "source": [
    "fig, ax = plt.subplots(figsize=(17, 5))\n",
    "sns.boxplot(data=df.melt(value_vars=numerical_columns),\n",
    "            x='variable', y='value');"
   ]
  },
  {
   "cell_type": "code",
   "execution_count": null,
   "metadata": {},
   "outputs": [],
   "source": []
  },
  {
   "cell_type": "markdown",
   "metadata": {},
   "source": [
    "---"
   ]
  },
  {
   "cell_type": "markdown",
   "metadata": {},
   "source": [
    "## *C. Unsupervised Learning :*"
   ]
  },
  {
   "cell_type": "markdown",
   "metadata": {},
   "source": [
    "### *C.1 Data Preparation :*"
   ]
  },
  {
   "cell_type": "markdown",
   "metadata": {},
   "source": [
    "* *Define x,y features (The Gender in this case is our target) :*"
   ]
  },
  {
   "cell_type": "code",
   "execution_count": 16,
   "metadata": {},
   "outputs": [],
   "source": [
    "x=df.drop(\"gender\",axis=1)\n",
    "y=df[\"gender\"]"
   ]
  },
  {
   "cell_type": "markdown",
   "metadata": {},
   "source": [
    "* *Define the new categorical_columns and numerical_columns :*"
   ]
  },
  {
   "cell_type": "code",
   "execution_count": 17,
   "metadata": {},
   "outputs": [],
   "source": [
    "categorical_columns =x.select_dtypes(include=['object']).columns.tolist()\n",
    "numerical_columns =x.select_dtypes(include=['float64','int64']).columns.tolist()"
   ]
  },
  {
   "cell_type": "markdown",
   "metadata": {},
   "source": [
    "* *Apply LabelEncoder for the target feature and OneHotEncoder for the input features :*"
   ]
  },
  {
   "cell_type": "code",
   "execution_count": 18,
   "metadata": {},
   "outputs": [],
   "source": [
    "from sklearn.preprocessing import (LabelEncoder,StandardScaler,OneHotEncoder)\n",
    "y=LabelEncoder().fit_transform(y)\n",
    "encoder = OneHotEncoder(sparse_output=False)\n",
    "one_hot_encoded = encoder.fit_transform(x[categorical_columns])"
   ]
  },
  {
   "cell_type": "markdown",
   "metadata": {},
   "source": [
    "* *Apply StandardScaler on the numerical_columns :*"
   ]
  },
  {
   "cell_type": "code",
   "execution_count": 19,
   "metadata": {},
   "outputs": [],
   "source": [
    "scaler = StandardScaler()\n",
    "scaled_numeric = scaler.fit_transform(x[numerical_columns])"
   ]
  },
  {
   "cell_type": "markdown",
   "metadata": {},
   "source": [
    "* *Combine the scaled_numeric data and the one_hot_encoded data in one data frame :*"
   ]
  },
  {
   "cell_type": "code",
   "execution_count": 21,
   "metadata": {},
   "outputs": [
    {
     "data": {
      "text/html": [
       "<div>\n",
       "<style scoped>\n",
       "    .dataframe tbody tr th:only-of-type {\n",
       "        vertical-align: middle;\n",
       "    }\n",
       "\n",
       "    .dataframe tbody tr th {\n",
       "        vertical-align: top;\n",
       "    }\n",
       "\n",
       "    .dataframe thead th {\n",
       "        text-align: right;\n",
       "    }\n",
       "</style>\n",
       "<table border=\"1\" class=\"dataframe\">\n",
       "  <thead>\n",
       "    <tr style=\"text-align: right;\">\n",
       "      <th></th>\n",
       "      <th>veh_value</th>\n",
       "      <th>exposure</th>\n",
       "      <th>numclaims</th>\n",
       "      <th>claimcst0</th>\n",
       "      <th>veh_body_BUS</th>\n",
       "      <th>veh_body_CONVT</th>\n",
       "      <th>veh_body_COUPE</th>\n",
       "      <th>veh_body_HBACK</th>\n",
       "      <th>veh_body_HDTOP</th>\n",
       "      <th>veh_body_MCARA</th>\n",
       "      <th>...</th>\n",
       "      <th>area_C</th>\n",
       "      <th>area_D</th>\n",
       "      <th>area_E</th>\n",
       "      <th>area_F</th>\n",
       "      <th>agecat_1</th>\n",
       "      <th>agecat_2</th>\n",
       "      <th>agecat_3</th>\n",
       "      <th>agecat_4</th>\n",
       "      <th>agecat_5</th>\n",
       "      <th>agecat_6</th>\n",
       "    </tr>\n",
       "  </thead>\n",
       "  <tbody>\n",
       "    <tr>\n",
       "      <th>0</th>\n",
       "      <td>-0.174060</td>\n",
       "      <td>-0.482778</td>\n",
       "      <td>-0.248908</td>\n",
       "      <td>-0.378729</td>\n",
       "      <td>0.0</td>\n",
       "      <td>0.0</td>\n",
       "      <td>0.0</td>\n",
       "      <td>0.0</td>\n",
       "      <td>0.0</td>\n",
       "      <td>0.0</td>\n",
       "      <td>...</td>\n",
       "      <td>0.0</td>\n",
       "      <td>0.0</td>\n",
       "      <td>0.0</td>\n",
       "      <td>0.0</td>\n",
       "      <td>0.0</td>\n",
       "      <td>0.0</td>\n",
       "      <td>0.0</td>\n",
       "      <td>0.0</td>\n",
       "      <td>0.0</td>\n",
       "      <td>1.0</td>\n",
       "    </tr>\n",
       "    <tr>\n",
       "      <th>1</th>\n",
       "      <td>-0.303562</td>\n",
       "      <td>1.464795</td>\n",
       "      <td>-0.248908</td>\n",
       "      <td>-0.340083</td>\n",
       "      <td>0.0</td>\n",
       "      <td>0.0</td>\n",
       "      <td>0.0</td>\n",
       "      <td>0.0</td>\n",
       "      <td>0.0</td>\n",
       "      <td>0.0</td>\n",
       "      <td>...</td>\n",
       "      <td>0.0</td>\n",
       "      <td>0.0</td>\n",
       "      <td>0.0</td>\n",
       "      <td>1.0</td>\n",
       "      <td>0.0</td>\n",
       "      <td>0.0</td>\n",
       "      <td>0.0</td>\n",
       "      <td>1.0</td>\n",
       "      <td>0.0</td>\n",
       "      <td>0.0</td>\n",
       "    </tr>\n",
       "    <tr>\n",
       "      <th>2</th>\n",
       "      <td>-0.951072</td>\n",
       "      <td>-0.273361</td>\n",
       "      <td>-0.248908</td>\n",
       "      <td>-0.454190</td>\n",
       "      <td>0.0</td>\n",
       "      <td>0.0</td>\n",
       "      <td>0.0</td>\n",
       "      <td>1.0</td>\n",
       "      <td>0.0</td>\n",
       "      <td>0.0</td>\n",
       "      <td>...</td>\n",
       "      <td>1.0</td>\n",
       "      <td>0.0</td>\n",
       "      <td>0.0</td>\n",
       "      <td>0.0</td>\n",
       "      <td>0.0</td>\n",
       "      <td>0.0</td>\n",
       "      <td>0.0</td>\n",
       "      <td>1.0</td>\n",
       "      <td>0.0</td>\n",
       "      <td>0.0</td>\n",
       "    </tr>\n",
       "    <tr>\n",
       "      <th>3</th>\n",
       "      <td>0.024509</td>\n",
       "      <td>0.166413</td>\n",
       "      <td>3.447099</td>\n",
       "      <td>-0.056764</td>\n",
       "      <td>0.0</td>\n",
       "      <td>0.0</td>\n",
       "      <td>0.0</td>\n",
       "      <td>0.0</td>\n",
       "      <td>0.0</td>\n",
       "      <td>0.0</td>\n",
       "      <td>...</td>\n",
       "      <td>0.0</td>\n",
       "      <td>0.0</td>\n",
       "      <td>0.0</td>\n",
       "      <td>1.0</td>\n",
       "      <td>0.0</td>\n",
       "      <td>1.0</td>\n",
       "      <td>0.0</td>\n",
       "      <td>0.0</td>\n",
       "      <td>0.0</td>\n",
       "      <td>0.0</td>\n",
       "    </tr>\n",
       "    <tr>\n",
       "      <th>4</th>\n",
       "      <td>1.897972</td>\n",
       "      <td>0.920312</td>\n",
       "      <td>-0.248908</td>\n",
       "      <td>0.964416</td>\n",
       "      <td>0.0</td>\n",
       "      <td>0.0</td>\n",
       "      <td>0.0</td>\n",
       "      <td>0.0</td>\n",
       "      <td>0.0</td>\n",
       "      <td>0.0</td>\n",
       "      <td>...</td>\n",
       "      <td>0.0</td>\n",
       "      <td>0.0</td>\n",
       "      <td>0.0</td>\n",
       "      <td>1.0</td>\n",
       "      <td>0.0</td>\n",
       "      <td>0.0</td>\n",
       "      <td>1.0</td>\n",
       "      <td>0.0</td>\n",
       "      <td>0.0</td>\n",
       "      <td>0.0</td>\n",
       "    </tr>\n",
       "  </tbody>\n",
       "</table>\n",
       "<p>5 rows × 33 columns</p>\n",
       "</div>"
      ],
      "text/plain": [
       "   veh_value  exposure  numclaims  claimcst0  veh_body_BUS  veh_body_CONVT  \\\n",
       "0  -0.174060 -0.482778  -0.248908  -0.378729           0.0             0.0   \n",
       "1  -0.303562  1.464795  -0.248908  -0.340083           0.0             0.0   \n",
       "2  -0.951072 -0.273361  -0.248908  -0.454190           0.0             0.0   \n",
       "3   0.024509  0.166413   3.447099  -0.056764           0.0             0.0   \n",
       "4   1.897972  0.920312  -0.248908   0.964416           0.0             0.0   \n",
       "\n",
       "   veh_body_COUPE  veh_body_HBACK  veh_body_HDTOP  veh_body_MCARA  ...  \\\n",
       "0             0.0             0.0             0.0             0.0  ...   \n",
       "1             0.0             0.0             0.0             0.0  ...   \n",
       "2             0.0             1.0             0.0             0.0  ...   \n",
       "3             0.0             0.0             0.0             0.0  ...   \n",
       "4             0.0             0.0             0.0             0.0  ...   \n",
       "\n",
       "   area_C  area_D  area_E  area_F  agecat_1  agecat_2  agecat_3  agecat_4  \\\n",
       "0     0.0     0.0     0.0     0.0       0.0       0.0       0.0       0.0   \n",
       "1     0.0     0.0     0.0     1.0       0.0       0.0       0.0       1.0   \n",
       "2     1.0     0.0     0.0     0.0       0.0       0.0       0.0       1.0   \n",
       "3     0.0     0.0     0.0     1.0       0.0       1.0       0.0       0.0   \n",
       "4     0.0     0.0     0.0     1.0       0.0       0.0       1.0       0.0   \n",
       "\n",
       "   agecat_5  agecat_6  \n",
       "0       0.0       1.0  \n",
       "1       0.0       0.0  \n",
       "2       0.0       0.0  \n",
       "3       0.0       0.0  \n",
       "4       0.0       0.0  \n",
       "\n",
       "[5 rows x 33 columns]"
      ]
     },
     "execution_count": 21,
     "metadata": {},
     "output_type": "execute_result"
    }
   ],
   "source": [
    "scaled_df=pd.concat([pd.DataFrame(scaled_numeric,columns=x.select_dtypes(exclude=\"object\").columns),\n",
    "           pd.DataFrame(one_hot_encoded,columns=encoder.get_feature_names_out(categorical_columns))],axis=1)\n",
    "scaled_df.head()"
   ]
  },
  {
   "cell_type": "markdown",
   "metadata": {},
   "source": []
  }
 ],
 "metadata": {
  "kernelspec": {
   "display_name": "UnsupervisedInsranceenv",
   "language": "python",
   "name": "python3"
  },
  "language_info": {
   "codemirror_mode": {
    "name": "ipython",
    "version": 3
   },
   "file_extension": ".py",
   "mimetype": "text/x-python",
   "name": "python",
   "nbconvert_exporter": "python",
   "pygments_lexer": "ipython3",
   "version": "3.10.8"
  }
 },
 "nbformat": 4,
 "nbformat_minor": 2
}
